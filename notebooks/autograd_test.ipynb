{
 "cells": [
  {
   "cell_type": "code",
   "execution_count": 1,
   "metadata": {},
   "outputs": [],
   "source": [
    "%reload_ext autoreload\n",
    "%autoreload 2"
   ]
  },
  {
   "cell_type": "code",
   "execution_count": 2,
   "metadata": {},
   "outputs": [],
   "source": [
    "from picograd.core import Variable, DAGVisualization\n",
    "from picograd.debugviz import make_dot\n",
    "import networkx as nx"
   ]
  },
  {
   "cell_type": "code",
   "execution_count": 3,
   "metadata": {},
   "outputs": [],
   "source": [
    "a = Variable(2.0)\n",
    "b = Variable(1.0)\n",
    "interm = a + b"
   ]
  },
  {
   "cell_type": "code",
   "execution_count": 4,
   "metadata": {},
   "outputs": [
    {
     "name": "stdout",
     "output_type": "stream",
     "text": [
      "Variable(3.0, leaf=False, requires_grad=True)\n"
     ]
    }
   ],
   "source": [
    "print(interm)"
   ]
  },
  {
   "cell_type": "code",
   "execution_count": 5,
   "metadata": {},
   "outputs": [
    {
     "name": "stdout",
     "output_type": "stream",
     "text": [
      "Variable(3.0, leaf=False, requires_grad=True)\n",
      "Variable(1.0, leaf=True, requires_grad=True)\n",
      "Variable(2.0, leaf=True, requires_grad=True)\n"
     ]
    }
   ],
   "source": [
    "for node in interm.toposort():\n",
    "    print(node)"
   ]
  },
  {
   "cell_type": "code",
   "execution_count": 6,
   "metadata": {},
   "outputs": [],
   "source": [
    "interm.backward()"
   ]
  },
  {
   "cell_type": "code",
   "execution_count": 7,
   "metadata": {},
   "outputs": [
    {
     "ename": "AttributeError",
     "evalue": "'Variable' object has no attribute 'numel'",
     "output_type": "error",
     "traceback": [
      "\u001b[0;31m---------------------------------------------------------------------------\u001b[0m",
      "\u001b[0;31mAttributeError\u001b[0m                            Traceback (most recent call last)",
      "Cell \u001b[0;32mIn [7], line 1\u001b[0m\n\u001b[0;32m----> 1\u001b[0m make_dot(interm)\n",
      "File \u001b[0;32m~/code/picograd/picograd/debugviz.py:103\u001b[0m, in \u001b[0;36mmake_dot\u001b[0;34m(root, show_intermediate_outs, show_grads)\u001b[0m\n\u001b[1;32m     98\u001b[0m \u001b[39mdef\u001b[39;00m \u001b[39mmake_dot\u001b[39m(root: Variable,\n\u001b[1;32m     99\u001b[0m              \u001b[39m*\u001b[39m,\n\u001b[1;32m    100\u001b[0m              show_intermediate_outs: \u001b[39mbool\u001b[39m \u001b[39m=\u001b[39m \u001b[39mFalse\u001b[39;00m,\n\u001b[1;32m    101\u001b[0m              show_grads\u001b[39m=\u001b[39m\u001b[39mFalse\u001b[39;00m):\n\u001b[1;32m    102\u001b[0m     dot \u001b[39m=\u001b[39m graphviz\u001b[39m.\u001b[39mDigraph(node_attr\u001b[39m=\u001b[39mNODE_ATTR, graph_attr\u001b[39m=\u001b[39m\u001b[39mdict\u001b[39m(size\u001b[39m=\u001b[39m\u001b[39m\"\u001b[39m\u001b[39m12,12\u001b[39m\u001b[39m\"\u001b[39m))\n\u001b[0;32m--> 103\u001b[0m     make_out_node(dot, root)\n\u001b[1;32m    104\u001b[0m     \u001b[39mif\u001b[39;00m root\u001b[39m.\u001b[39mop \u001b[39mis\u001b[39;00m \u001b[39mNone\u001b[39;00m:\n\u001b[1;32m    105\u001b[0m         \u001b[39mreturn\u001b[39;00m dot\n",
      "File \u001b[0;32m~/code/picograd/picograd/debugviz.py:54\u001b[0m, in \u001b[0;36mmake_out_node\u001b[0;34m(dot, out)\u001b[0m\n\u001b[1;32m     53\u001b[0m \u001b[39mdef\u001b[39;00m \u001b[39mmake_out_node\u001b[39m(dot, out: Variable):\n\u001b[0;32m---> 54\u001b[0m     dot\u001b[39m.\u001b[39mnode(out\u001b[39m.\u001b[39mvalue, get_data_repr(out), \u001b[39m*\u001b[39m\u001b[39m*\u001b[39mOUT)\n",
      "File \u001b[0;32m~/code/picograd/picograd/debugviz.py:32\u001b[0m, in \u001b[0;36mget_data_repr\u001b[0;34m(data)\u001b[0m\n\u001b[1;32m     30\u001b[0m \u001b[39mdef\u001b[39;00m \u001b[39mget_data_repr\u001b[39m(data: Variable):\n\u001b[1;32m     31\u001b[0m     \u001b[39mif\u001b[39;00m (\u001b[39mnot\u001b[39;00m \u001b[39misinstance\u001b[39m(data, Variable) \u001b[39mor\u001b[39;00m\n\u001b[0;32m---> 32\u001b[0m             data\u001b[39m.\u001b[39;49mnumel \u001b[39m<\u001b[39m\u001b[39m=\u001b[39m MAX_DATA_VIEW_NUMEL):\n\u001b[1;32m     33\u001b[0m         \u001b[39mreturn\u001b[39;00m \u001b[39mstr\u001b[39m(data)\n\u001b[1;32m     34\u001b[0m     \u001b[39mreturn\u001b[39;00m (\u001b[39mf\u001b[39m\u001b[39m\"\u001b[39m\u001b[39mVariable(val=\u001b[39m\u001b[39m{\u001b[39;00mdata\u001b[39m.\u001b[39mvalue\u001b[39m}\u001b[39;00m\u001b[39m, requires_grad=\u001b[39m\u001b[39m{\u001b[39;00mdata\u001b[39m.\u001b[39mrequires_grad\u001b[39m}\u001b[39;00m\u001b[39m)\u001b[39m\u001b[39m\"\u001b[39m)\n",
      "\u001b[0;31mAttributeError\u001b[0m: 'Variable' object has no attribute 'numel'"
     ]
    }
   ],
   "source": [
    "make_dot(interm)"
   ]
  },
  {
   "cell_type": "code",
   "execution_count": null,
   "metadata": {},
   "outputs": [],
   "source": []
  }
 ],
 "metadata": {
  "kernelspec": {
   "display_name": "Python 3.10.8 ('picograd')",
   "language": "python",
   "name": "python3"
  },
  "language_info": {
   "codemirror_mode": {
    "name": "ipython",
    "version": 3
   },
   "file_extension": ".py",
   "mimetype": "text/x-python",
   "name": "python",
   "nbconvert_exporter": "python",
   "pygments_lexer": "ipython3",
   "version": "3.10.8"
  },
  "orig_nbformat": 4,
  "vscode": {
   "interpreter": {
    "hash": "802e4d8a192e3fea06abe4e65d73051f289e2b1e16ab72e1471c5542d58ff372"
   }
  }
 },
 "nbformat": 4,
 "nbformat_minor": 2
}
